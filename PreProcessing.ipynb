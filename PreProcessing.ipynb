{
  "nbformat": 4,
  "nbformat_minor": 0,
  "metadata": {
    "colab": {
      "provenance": [],
      "authorship_tag": "ABX9TyMlOC2c3uy5cLkfxKG2LEse",
      "include_colab_link": true
    },
    "kernelspec": {
      "name": "python3",
      "display_name": "Python 3"
    },
    "language_info": {
      "name": "python"
    }
  },
  "cells": [
    {
      "cell_type": "markdown",
      "metadata": {
        "id": "view-in-github",
        "colab_type": "text"
      },
      "source": [
        "<a href=\"https://colab.research.google.com/github/lalithakre/Normalization-in-ML/blob/main/PreProcessing.ipynb\" target=\"_parent\"><img src=\"https://colab.research.google.com/assets/colab-badge.svg\" alt=\"Open In Colab\"/></a>"
      ]
    },
    {
      "cell_type": "code",
      "source": [
        "data=[[5,200],[2,359],[8,120],[1,23]] #2D list\n",
        "from sklearn.preprocessing import MinMaxScaler\n",
        "scale=MinMaxScaler() \n",
        "data1=scale.fit_transform(data)\n",
        "data1"
      ],
      "metadata": {
        "colab": {
          "base_uri": "https://localhost:8080/"
        },
        "id": "aRk4U8CpTNuW",
        "outputId": "0bfadc5e-739d-45ee-9aab-66142e217cca"
      },
      "execution_count": null,
      "outputs": [
        {
          "output_type": "execute_result",
          "data": {
            "text/plain": [
              "array([[0.57142857, 0.52678571],\n",
              "       [0.14285714, 1.        ],\n",
              "       [1.        , 0.28869048],\n",
              "       [0.        , 0.        ]])"
            ]
          },
          "metadata": {},
          "execution_count": 2
        }
      ]
    },
    {
      "cell_type": "code",
      "source": [
        "from sklearn.preprocessing import StandardScaler\n",
        "ss=StandardScaler()\n",
        "data2=ss.fit_transform(data)\n",
        "data2"
      ],
      "metadata": {
        "colab": {
          "base_uri": "https://localhost:8080/"
        },
        "id": "vbiDovoGVvSr",
        "outputId": "d98a27b1-f5a7-484d-caf0-39559ee00754"
      },
      "execution_count": null,
      "outputs": [
        {
          "output_type": "execute_result",
          "data": {
            "text/plain": [
              "array([[ 0.36514837,  0.19903411],\n",
              "       [-0.73029674,  1.4907249 ],\n",
              "       [ 1.46059349, -0.4508732 ],\n",
              "       [-1.09544512, -1.23888581]])"
            ]
          },
          "metadata": {},
          "execution_count": 4
        }
      ]
    },
    {
      "cell_type": "code",
      "source": [
        "\"\"\"encoding:\n",
        "is a technique of converting categorical variables into numerical values so that it could be easily fitted to a machine leaning model.\n",
        "\"\"\""
      ],
      "metadata": {
        "colab": {
          "base_uri": "https://localhost:8080/",
          "height": 53
        },
        "id": "npH10kWhWdpl",
        "outputId": "fefd3bc9-791a-492b-9fd6-4916bed1f45e"
      },
      "execution_count": null,
      "outputs": [
        {
          "output_type": "execute_result",
          "data": {
            "text/plain": [
              "'encoding:\\nis a technique of converting categorical variables into numerical values so that it could be easily fitted to a machine leaning model.'"
            ],
            "application/vnd.google.colaboratory.intrinsic+json": {
              "type": "string"
            }
          },
          "metadata": {},
          "execution_count": 7
        }
      ]
    },
    {
      "cell_type": "code",
      "source": [
        "\"\"\"\"Types of encoding:\n",
        "One hot encoding: single one is '1' other bits are '0'\n",
        "\"\"\""
      ],
      "metadata": {
        "colab": {
          "base_uri": "https://localhost:8080/",
          "height": 36
        },
        "id": "tsPHFhIYYoS9",
        "outputId": "29e5fa25-cafd-40a5-c248-892e1eac3a0c"
      },
      "execution_count": null,
      "outputs": [
        {
          "output_type": "execute_result",
          "data": {
            "text/plain": [
              "'\"Types of encoding:\\nOne hot encoding: single one is \\'1\\' other bits are \\'0\\'\\n\\n'"
            ],
            "application/vnd.google.colaboratory.intrinsic+json": {
              "type": "string"
            }
          },
          "metadata": {},
          "execution_count": 8
        }
      ]
    },
    {
      "cell_type": "code",
      "source": [
        "import numpy as np #this library is used to perform operations on array\n",
        "data=['blue','red','yellow','black','blue'] #list\n",
        "data4=np.array(data) #converting list into an array\n",
        "from sklearn.preprocessing import OneHotEncoder #for pre processing\n",
        "enc=OneHotEncoder() #intializing in enc variable \n",
        "data3=enc.fit_transform(data4[:,np.newaxis]).toarray() \n",
        "data3"
      ],
      "metadata": {
        "colab": {
          "base_uri": "https://localhost:8080/"
        },
        "id": "x5rOz66lZaJt",
        "outputId": "1bf8a999-977c-4d80-bba3-6db84680d8ec"
      },
      "execution_count": null,
      "outputs": [
        {
          "output_type": "execute_result",
          "data": {
            "text/plain": [
              "array([[0., 1., 0., 0.],\n",
              "       [0., 0., 1., 0.],\n",
              "       [0., 0., 0., 1.],\n",
              "       [1., 0., 0., 0.],\n",
              "       [0., 1., 0., 0.]])"
            ]
          },
          "metadata": {},
          "execution_count": 27
        }
      ]
    },
    {
      "cell_type": "code",
      "source": [
        "\"\"\"\n",
        "Ordinal encoding :\n",
        "#if you want ordering encoding\n",
        "\"\"\""
      ],
      "metadata": {
        "colab": {
          "base_uri": "https://localhost:8080/",
          "height": 36
        },
        "id": "ZJhvJrxwc4B3",
        "outputId": "eb0b112b-db16-4430-bd3e-67c87c5878d3"
      },
      "execution_count": null,
      "outputs": [
        {
          "output_type": "execute_result",
          "data": {
            "text/plain": [
              "'\\nOrdinal encoding :\\n\\n'"
            ],
            "application/vnd.google.colaboratory.intrinsic+json": {
              "type": "string"
            }
          },
          "metadata": {},
          "execution_count": 28
        }
      ]
    },
    {
      "cell_type": "code",
      "source": [
        "import numpy as np\n",
        "data=['professor','assistantprofessor','director','associateprofessor']#list\n",
        "data=np.array(data)#array\n",
        "arr=data.reshape(-1,1)#reshaping\n",
        "from sklearn.preprocessing import OrdinalEncoder\n",
        "oe=OrdinalEncoder()\n",
        "data5=oe.fit_transform(arr)\n",
        "data5.astype(int)"
      ],
      "metadata": {
        "colab": {
          "base_uri": "https://localhost:8080/"
        },
        "id": "a98nbgGydDhi",
        "outputId": "39dd1a90-69ff-4ba1-92fa-396f73a813cb"
      },
      "execution_count": 8,
      "outputs": [
        {
          "output_type": "execute_result",
          "data": {
            "text/plain": [
              "array([[3],\n",
              "       [0],\n",
              "       [2],\n",
              "       [1]])"
            ]
          },
          "metadata": {},
          "execution_count": 8
        }
      ]
    },
    {
      "cell_type": "code",
      "source": [
        "# to check outliers in dataset"
      ],
      "metadata": {
        "id": "RNAz962Eu_bX"
      },
      "execution_count": null,
      "outputs": []
    },
    {
      "cell_type": "code",
      "source": [
        "data=[1,224,122,234,234,234,423]\n",
        "import numpy as np\n",
        "q1=np.percentile(data,25)\n",
        "q2=np.percentile(data,75)\n",
        "i=q2-q1\n",
        "max=q2+(1.5*i)\n",
        "min=q1-(1.5*i)\n",
        "outlier=[]\n",
        "for i in data:\n",
        "  if i>max or i<min:\n",
        "    outlier.append(i)\n",
        "outlier"
      ],
      "metadata": {
        "colab": {
          "base_uri": "https://localhost:8080/"
        },
        "id": "8BmMxJj-teqY",
        "outputId": "3c999f0d-10b6-441e-9811-f71fa675b18c"
      },
      "execution_count": 16,
      "outputs": [
        {
          "output_type": "execute_result",
          "data": {
            "text/plain": [
              "[1, 423]"
            ]
          },
          "metadata": {},
          "execution_count": 16
        }
      ]
    }
  ]
}